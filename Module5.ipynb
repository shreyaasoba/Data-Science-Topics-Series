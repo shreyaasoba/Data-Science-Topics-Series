{
  "nbformat": 4,
  "nbformat_minor": 0,
  "metadata": {
    "colab": {
      "provenance": [],
      "authorship_tag": "ABX9TyNQPTVJ/SjjBDmyp4AqZD/+",
      "include_colab_link": true
    },
    "kernelspec": {
      "name": "python3",
      "display_name": "Python 3"
    },
    "language_info": {
      "name": "python"
    }
  },
  "cells": [
    {
      "cell_type": "markdown",
      "metadata": {
        "id": "view-in-github",
        "colab_type": "text"
      },
      "source": [
        "<a href=\"https://colab.research.google.com/github/shreyaasoba/Data-Science-Topics-Series/blob/main/Module5.ipynb\" target=\"_parent\"><img src=\"https://colab.research.google.com/assets/colab-badge.svg\" alt=\"Open In Colab\"/></a>"
      ]
    },
    {
      "cell_type": "markdown",
      "source": [
        "## Machine Learning Overview\n",
        "\n",
        "Machine Learning (ML) is a subset of Artificial Intelligence that focuses on developing algorithms and statistical models to enable computers to improve performance on a specific task through experience. Below are key concepts and major topics in ML:\n",
        "\n",
        "### Supervised Learning\n",
        "\n",
        "Supervised learning involves training algorithms on labeled data. The main types of problems are:\n",
        "\n",
        "- **Classification:** Predicting a categorical output (e.g., spam detection, image recognition).\n",
        "- **Regression:** Predicting a continuous output (e.g., house price prediction, stock price forecasting).\n",
        "\n",
        "Common algorithms:\n",
        "- Linear Regression\n",
        "- Logistic Regression\n",
        "- Decision Trees\n",
        "- Random Forests\n",
        "- Support Vector Machines (SVM)\n",
        "- Neural Networks\n",
        "\n",
        "### Unsupervised Learning\n",
        "\n",
        "Unsupervised learning deals with unlabeled data to uncover patterns or structures. Key tasks include:\n",
        "\n",
        "- **Clustering:** Grouping similar data points (e.g., customer segmentation).\n",
        "- **Dimensionality Reduction:** Reducing features while preserving information.\n",
        "\n",
        "Popular algorithms:\n",
        "- K-Means Clustering\n",
        "- Hierarchical Clustering\n",
        "- Principal Component Analysis (PCA)\n",
        "- t-SNE (t-Distributed Stochastic Neighbor Embedding)\n",
        "\n",
        "### Feature Engineering\n",
        "\n",
        "Feature engineering improves model performance by creating or modifying features:\n",
        "- One-hot encoding for categorical variables\n",
        "- Scaling and normalization\n",
        "- Binning and discretization\n",
        "- Interaction and polynomial features\n",
        "\n",
        "### Model Evaluation and Validation\n",
        "\n",
        "Evaluating ML models involves techniques and metrics:\n",
        "- **Cross-validation:** e.g., k-fold cross-validation.\n",
        "- **Metrics for classification:** Accuracy, Precision, Recall, F1-score, ROC-AUC.\n",
        "- **Metrics for regression:** Mean Squared Error (MSE), Root Mean Squared Error (RMSE), R-squared.\n",
        "\n",
        "### Bias-Variance Tradeoff\n",
        "\n",
        "Understanding the tradeoff between model complexity and generalization:\n",
        "- **Bias:** Error due to oversimplified assumptions.\n",
        "- **Variance:** Error due to sensitivity to training data.\n",
        "- **Overfitting:** High variance, low bias.\n",
        "- **Underfitting:** High bias, low variance.\n",
        "\n",
        "### Regularization\n",
        "\n",
        "Regularization prevents overfitting and improves generalization:\n",
        "- L1 Regularization (Lasso)\n",
        "- L2 Regularization (Ridge)\n",
        "- Elastic Net (L1 + L2)\n",
        "- Dropout (for neural networks)\n",
        "\n",
        "### Ensemble Methods\n",
        "\n",
        "Combining models for better performance:\n",
        "- **Bagging:** Random Forests.\n",
        "- **Boosting:** AdaBoost, Gradient Boosting.\n",
        "- **Stacking:** Combining diverse models.\n",
        "\n",
        "### Deep Learning\n",
        "\n",
        "Deep learning uses neural networks with multiple layers for complex tasks:\n",
        "- **Convolutional Neural Networks (CNNs):** Image processing.\n",
        "- **Recurrent Neural Networks (RNNs):** Sequential data.\n",
        "- **Transformers:** Natural language processing.\n",
        "\n",
        "### Model Interpretability\n",
        "\n",
        "Understanding model decisions:\n",
        "- Feature importance\n",
        "- SHAP (SHapley Additive exPlanations) values\n",
        "- LIME (Local Interpretable Model-agnostic Explanations)\n",
        "\n",
        "## Interview Questions and Answers\n",
        "\n",
        "1. **What is the difference between supervised and unsupervised learning?**  \n",
        "   Supervised learning uses labeled data to train models, while unsupervised learning works with unlabeled data to discover patterns or structures.\n",
        "\n",
        "2. **Explain the bias-variance tradeoff.**  \n",
        "   The bias-variance tradeoff balances model complexity and generalization. High bias leads to underfitting, while high variance leads to overfitting.\n",
        "\n",
        "3. **What is feature engineering, and why is it important?**  \n",
        "   Feature engineering creates or modifies features to improve model accuracy by capturing domain knowledge and reducing dimensionality.\n",
        "\n",
        "4. **How do you handle missing data in a dataset?**  \n",
        "   Approaches include:\n",
        "   - Removing rows with missing values.\n",
        "   - Imputing with mean, median, or mode.\n",
        "   - Advanced imputation (e.g., KNN or regression).\n",
        "   - Using algorithms that handle missing values (e.g., decision trees).\n",
        "\n",
        "5. **What is the purpose of regularization in ML?**  \n",
        "   Regularization prevents overfitting by adding a penalty term to the loss function, improving the model’s ability to generalize.\n",
        "\n",
        "These questions serve as a foundation. Practical experience and a deep understanding of ML concepts are essential for success in interviews.\n"
      ],
      "metadata": {
        "id": "vyQ8UYuxuOLd"
      }
    },
    {
      "cell_type": "markdown",
      "source": [
        "###Coding Task"
      ],
      "metadata": {
        "id": "6ETYE3I041MC"
      }
    },
    {
      "cell_type": "code",
      "source": [
        "from sklearn.model_selection import train_test_split\n",
        "from sklearn.linear_model import LinearRegression\n",
        "from sklearn.metrics import mean_squared_error\n",
        "import numpy as np\n",
        "\n",
        "# Generate synthetic data for regression\n",
        "np.random.seed(42)\n",
        "X = np.random.rand(100, 1) * 10\n",
        "y = 2.5 * X + np.random.randn(100, 1) * 2\n",
        "\n",
        "# Split into training and testing sets\n",
        "X_train, X_test, y_train, y_test = train_test_split(X, y, test_size=0.2)\n",
        "\n",
        "# Train a Linear Regression model\n",
        "model = LinearRegression()\n",
        "model.fit(X_train, y_train)\n",
        "\n",
        "# Make predictions and evaluate the model\n",
        "y_pred = model.predict(X_test)\n",
        "mse = mean_squared_error(y_test, y_pred)\n",
        "\n",
        "print(\"Model Coefficients:\", model.coef_)\n",
        "print(\"Intercept:\", model.intercept_)\n",
        "print(\"Mean Squared Error:\", mse)\n"
      ],
      "metadata": {
        "colab": {
          "base_uri": "https://localhost:8080/"
        },
        "id": "9Iqs0Osjvf4R",
        "outputId": "d04a9a6c-59b6-438b-ec6a-4990b7416e84"
      },
      "execution_count": null,
      "outputs": [
        {
          "output_type": "stream",
          "name": "stdout",
          "text": [
            "Model Coefficients: [[2.40982601]]\n",
            "Intercept: [0.25312854]\n",
            "Mean Squared Error: 4.6834477008785065\n"
          ]
        }
      ]
    },
    {
      "cell_type": "markdown",
      "source": [
        "###Practice\n",
        "\n",
        "Try polynomial regression instead of linear regression.\n",
        "Visualize the regression line along with the data points."
      ],
      "metadata": {
        "id": "sfYsICklv02f"
      }
    }
  ]
}