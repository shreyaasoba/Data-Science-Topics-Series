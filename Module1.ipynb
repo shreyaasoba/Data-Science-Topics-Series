{
  "nbformat": 4,
  "nbformat_minor": 0,
  "metadata": {
    "colab": {
      "provenance": [],
      "authorship_tag": "ABX9TyNtS/jY9Lv9+bMIwziTDHgP",
      "include_colab_link": true
    },
    "kernelspec": {
      "name": "python3",
      "display_name": "Python 3"
    },
    "language_info": {
      "name": "python"
    }
  },
  "cells": [
    {
      "cell_type": "markdown",
      "metadata": {
        "id": "view-in-github",
        "colab_type": "text"
      },
      "source": [
        "<a href=\"https://colab.research.google.com/github/shreyaasoba/Data-Science-Topics-Series/blob/main/Module1.ipynb\" target=\"_parent\"><img src=\"https://colab.research.google.com/assets/colab-badge.svg\" alt=\"Open In Colab\"/></a>"
      ]
    },
    {
      "cell_type": "markdown",
      "source": [
        "**Module 1: Python Programming and Data Manipulation:**\n",
        "\n",
        "**Data Types:**\n",
        "Python offers several built-in data types:\n",
        "**Numbers**: Integers (int), floating-point numbers (float), and complex numbers (complex).\n",
        "**Strings**: Sequences of characters (str).\n",
        "**Booleans**: True or False values (bool).\n",
        "**Lists**: Ordered, mutable collections of items (list).\n",
        "**Tuples**: Ordered, immutable collections of items (tuple).\n",
        "**Dictionaries**: Unordered collections of key-value pairs (dict).\n",
        "\n",
        "**Loops**:\n",
        "**for** loop: Iterates over a sequence of items (e.g., a list, a string).\n",
        "**while** loop: Repeats code as long as a condition is true.\n",
        "\n",
        "**Conditionals**:\n",
        "**if** statement: Executes code if a condition is true.\n",
        "**elif** statement: Executes code if the previous if condition is false and another condition is true.\n",
        "**else** statement: Executes code if all previous if and elif conditions are false.\n",
        "Functions:\n",
        "Reusable blocks of code that perform a specific task.\n",
        "\n",
        "\n",
        "---\n",
        "\n"
      ],
      "metadata": {
        "id": "kE4YAycj-FQu"
      }
    },
    {
      "cell_type": "markdown",
      "source": [
        "**Libraries**\n",
        "**Pandas**:\n",
        "A powerful library for data manipulation and analysis.\n",
        "DataFrames: The primary data structure in Pandas, representing tabular data with rows and columns.\n",
        "**NumPy**:\n",
        "A fundamental library for numerical operations.\n",
        "Arrays: The primary data structure in NumPy, optimized for efficient mathematical calculations.\n",
        "\n",
        "**DataFrames**\n",
        "**Creating**: Create DataFrames from various sources (e.g., CSV files, dictionaries, lists).\n",
        "**Filtering**: Select specific rows or columns based on certain conditions.\n",
        "**Adding** New Columns: Create new columns based on existing data or calculations.\n",
        "**Aggregating** Data: Perform summary calculations on data (e.g., sum, mean, count).\n"
      ],
      "metadata": {
        "id": "scwjw83eIcER"
      }
    },
    {
      "cell_type": "code",
      "execution_count": null,
      "metadata": {
        "colab": {
          "base_uri": "https://localhost:8080/"
        },
        "id": "PrI4UJ9y96NZ",
        "outputId": "93fb5a48-4a0b-4c4b-ef2e-999f38f10bad"
      },
      "outputs": [
        {
          "output_type": "stream",
          "name": "stdout",
          "text": [
            "Original DataFrame:\n",
            "       Name  Age  Salary   Bonus\n",
            "0    Alice   25   50000  5000.0\n",
            "1      Bob   30   60000  6000.0\n",
            "2  Charlie   35   70000  7000.0\n",
            "3    David   40   80000  8000.0\n",
            "\n",
            "Filtered DataFrame:\n",
            "       Name  Age  Salary   Bonus\n",
            "2  Charlie   35   70000  7000.0\n",
            "3    David   40   80000  8000.0\n"
          ]
        }
      ],
      "source": [
        "# Import necessary libraries\n",
        "import pandas as pd\n",
        "\n",
        "# Create a sample DataFrame\n",
        "data = {\n",
        "    'Name': ['Alice', 'Bob', 'Charlie', 'David'],\n",
        "    'Age': [25, 30, 35, 40],\n",
        "    'Salary': [50000, 60000, 70000, 80000]\n",
        "}\n",
        "df = pd.DataFrame(data)\n",
        "\n",
        "# Add a new column for bonuses (10% of salary)\n",
        "df['Bonus'] = df['Salary'] * 0.1\n",
        "\n",
        "# Filter employees older than 30\n",
        "filtered_df = df[df['Age'] > 30]\n",
        "\n",
        "# Display the results\n",
        "print(\"Original DataFrame:\\n\", df)\n",
        "print(\"\\nFiltered DataFrame:\\n\", filtered_df)\n"
      ]
    },
    {
      "cell_type": "markdown",
      "source": [
        "Practice\n",
        "Modify the code to calculate a new column for \"Total Compensation\" (Salary + Bonus).\n",
        "Filter employees with a salary greater than $60,000."
      ],
      "metadata": {
        "id": "iRstq4idJRoZ"
      }
    },
    {
      "cell_type": "code",
      "source": [
        "df['Total Compensation'] = df['Salary'] + df['Bonus']\n",
        "print(df)"
      ],
      "metadata": {
        "colab": {
          "base_uri": "https://localhost:8080/"
        },
        "id": "YPCnV3G9JKqY",
        "outputId": "200b59e3-3639-4afa-9223-4a33ce2df1a3"
      },
      "execution_count": null,
      "outputs": [
        {
          "output_type": "stream",
          "name": "stdout",
          "text": [
            "      Name  Age  Salary   Bonus  Total Compensation\n",
            "0    Alice   25   50000  5000.0             55000.0\n",
            "1      Bob   30   60000  6000.0             66000.0\n",
            "2  Charlie   35   70000  7000.0             77000.0\n",
            "3    David   40   80000  8000.0             88000.0\n"
          ]
        }
      ]
    },
    {
      "cell_type": "code",
      "source": [
        "filter_TC = df[df['Salary']>60000]\n",
        "print(\"employees with a salary greater than $60,000.\", filter_TC)"
      ],
      "metadata": {
        "colab": {
          "base_uri": "https://localhost:8080/"
        },
        "id": "vf8vZJloJjtQ",
        "outputId": "08b14c90-8963-463f-b776-e1ce9f63d7b4"
      },
      "execution_count": null,
      "outputs": [
        {
          "output_type": "stream",
          "name": "stdout",
          "text": [
            "employees with a salary greater than $60,000.       Name  Age  Salary   Bonus  Total Compensation\n",
            "2  Charlie   35   70000  7000.0             77000.0\n",
            "3    David   40   80000  8000.0             88000.0\n"
          ]
        }
      ]
    }
  ]
}