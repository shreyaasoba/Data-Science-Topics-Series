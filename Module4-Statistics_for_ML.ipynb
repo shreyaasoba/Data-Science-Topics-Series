{
  "nbformat": 4,
  "nbformat_minor": 0,
  "metadata": {
    "colab": {
      "provenance": [],
      "authorship_tag": "ABX9TyOXX046SetxxZEl6n5Mhom9",
      "include_colab_link": true
    },
    "kernelspec": {
      "name": "python3",
      "display_name": "Python 3"
    },
    "language_info": {
      "name": "python"
    }
  },
  "cells": [
    {
      "cell_type": "markdown",
      "metadata": {
        "id": "view-in-github",
        "colab_type": "text"
      },
      "source": [
        "<a href=\"https://colab.research.google.com/github/shreyaasoba/Data-Science-Topics-Series/blob/main/Module4.ipynb\" target=\"_parent\"><img src=\"https://colab.research.google.com/assets/colab-badge.svg\" alt=\"Open In Colab\"/></a>"
      ]
    },
    {
      "cell_type": "markdown",
      "source": [
        "**Module 4: Statistics and Probability**"
      ],
      "metadata": {
        "id": "5LmAuDs0Xj2i"
      }
    },
    {
      "cell_type": "markdown",
      "source": [
        "# Understanding Statistics for Machine Learning\n",
        "\n",
        "This README provides a concise yet comprehensive overview of key statistical concepts frequently used in machine learning. These foundational principles are essential for data analysis, model evaluation, and interpreting results effectively.\n",
        "\n",
        "---\n",
        "\n",
        "## Key Concepts\n",
        "\n",
        "### 1. **Descriptive Statistics**\n",
        "Descriptive statistics summarize and describe the main features of a dataset.\n",
        "\n",
        "- **Mean**: The average value of a dataset, calculated as:\n",
        "  \\[\n",
        "  \\text{Mean} = \\frac{\\sum{\\text{Values}}}{\\text{Number of Values}}\n",
        "  \\]\n",
        "  Example:\n",
        "  ```python\n",
        "  import numpy as np\n",
        "  data = [1, 2, 3, 4, 5]\n",
        "  mean = np.mean(data)\n",
        "  print(mean)  # Output: 3\n",
        "  ```\n",
        "\n",
        "- **Median**: The middle value when the data is ordered from lowest to highest. If the dataset has an even number of values, the median is the average of the two middle values.\n",
        "  Example:\n",
        "  ```python\n",
        "  median = np.median(data)\n",
        "  print(median)  # Output: 3\n",
        "  ```\n",
        "\n",
        "- **Mode**: The most frequently occurring value in the dataset.\n",
        "  Example:\n",
        "  ```python\n",
        "  from scipy import stats\n",
        "  mode = stats.mode(data)\n",
        "  print(mode)  # Output: ModeResult(mode=array([1]), count=array([1]))\n",
        "  ```\n",
        "\n",
        "---\n",
        "\n",
        "### 2. **Probability Distributions**\n",
        "Probability distributions describe how values in a dataset are distributed.\n",
        "\n",
        "- **Normal Distribution (Bell Curve)**: A symmetrical distribution where:\n",
        "  - The mean, median, and mode are equal.\n",
        "  - Most data points cluster around the mean, with fewer values at the extremes.\n",
        "  - Characterized by the probability density function (PDF):\n",
        "    \\[\n",
        "    f(x) = \\frac{1}{\\sigma \\sqrt{2\\pi}} e^{-\\frac{(x-\\mu)^2}{2\\sigma^2}}\n",
        "    \\]\n",
        "  Example:\n",
        "  ```python\n",
        "  import matplotlib.pyplot as plt\n",
        "  import numpy as np\n",
        "  \n",
        "  data = np.random.normal(0, 1, 1000)\n",
        "  plt.hist(data, bins=30, density=True)\n",
        "  plt.title(\"Normal Distribution\")\n",
        "  plt.show()\n",
        "  ```\n",
        "\n",
        "---\n",
        "\n",
        "### 3. **Hypothesis Testing**\n",
        "Hypothesis testing is used to make inferences or draw conclusions about a population based on a sample.\n",
        "\n",
        "- **Null Hypothesis (H₀)**: Assumes there is no significant effect or difference between groups.\n",
        "  Example: \"The mean test scores of two groups are equal.\"\n",
        "\n",
        "- **P-value**: The probability of observing data as extreme as what was observed, assuming the null hypothesis is true.\n",
        "  - A **low p-value** (e.g., < 0.05) indicates strong evidence against H₀, leading to its rejection.\n",
        "  - A **high p-value** suggests insufficient evidence to reject H₀.\n",
        "\n",
        "Example:\n",
        "```python\n",
        "from scipy.stats import ttest_ind\n",
        "\n",
        "# Two sample groups\n",
        "group1 = [1, 2, 3, 4, 5]\n",
        "group2 = [2, 3, 4, 5, 6]\n",
        "\n",
        "# Perform t-test\n",
        "t_stat, p_value = ttest_ind(group1, group2)\n",
        "print(f\"t-statistic: {t_stat}, p-value: {p_value}\")\n",
        "```\n",
        "\n",
        "---\n",
        "\n",
        "### 4. **Key Points to Remember**\n",
        "\n",
        "1. **Descriptive Statistics**:\n",
        "   - Provide a basic summary of the data (mean, median, mode).\n",
        "   - Help understand the distribution and central tendencies.\n",
        "\n",
        "2. **Probability Distributions**:\n",
        "   - The normal distribution is a common reference in statistics.\n",
        "   - Not all datasets follow a normal distribution.\n",
        "\n",
        "3. **Hypothesis Testing**:\n",
        "   - Involves comparing observed data against the null hypothesis.\n",
        "   - Interpreting a p-value requires considering the study context and the predetermined significance level (commonly 0.05).\n",
        "\n",
        "---\n",
        "\n",
        "### Additional Resources\n",
        "- [Scipy Documentation](https://docs.scipy.org/doc/scipy/)\n",
        "- [Numpy Documentation](https://numpy.org/doc/stable/)\n",
        "- [Python Data Science Handbook](https://jakevdp.github.io/PythonDataScienceHandbook/)\n"
      ],
      "metadata": {
        "id": "hR1bqvefYYbm"
      }
    },
    {
      "cell_type": "code",
      "source": [
        "import numpy as np\n",
        "\n",
        "data = np.random.normal(loc=50, scale=10, size=100) # Generate random data\n",
        "\n",
        "mean = np.mean(data)\n",
        "std_dev = np.std(data)\n",
        "\n",
        "print(\"Mean:\", mean)\n",
        "print(\"Standard Deviation:\", std_dev)\n"
      ],
      "metadata": {
        "colab": {
          "base_uri": "https://localhost:8080/"
        },
        "id": "-feQ0qfxXjiQ",
        "outputId": "61e218fe-e718-4c3e-830c-ea61d1311b95"
      },
      "execution_count": 1,
      "outputs": [
        {
          "output_type": "stream",
          "name": "stdout",
          "text": [
            "Mean: 48.53359731225125\n",
            "Standard Deviation: 9.570923152973858\n"
          ]
        }
      ]
    },
    {
      "cell_type": "markdown",
      "source": [
        "---\n",
        "**Practice:**\n",
        "\n",
        "Perform a t-test to compare two datasets.\n",
        "Plot a histogram of the generated data.\n",
        "\n",
        "---"
      ],
      "metadata": {
        "id": "hg9CPL7pYiX2"
      }
    }
  ]
}
